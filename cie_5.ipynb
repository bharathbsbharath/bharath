{
 "cells": [
  {
   "cell_type": "code",
   "execution_count": 15,
   "id": "45a3bafc",
   "metadata": {},
   "outputs": [],
   "source": [
    "import pandas as pd \n",
    "from sklearn.model_selection import train_test_split \n",
    "from keras.layers import Activation, Dense"
   ]
  },
  {
   "cell_type": "code",
   "execution_count": 16,
   "id": "388836f2",
   "metadata": {},
   "outputs": [
    {
     "data": {
      "text/html": [
       "<div>\n",
       "<style scoped>\n",
       "    .dataframe tbody tr th:only-of-type {\n",
       "        vertical-align: middle;\n",
       "    }\n",
       "\n",
       "    .dataframe tbody tr th {\n",
       "        vertical-align: top;\n",
       "    }\n",
       "\n",
       "    .dataframe thead th {\n",
       "        text-align: right;\n",
       "    }\n",
       "</style>\n",
       "<table border=\"1\" class=\"dataframe\">\n",
       "  <thead>\n",
       "    <tr style=\"text-align: right;\">\n",
       "      <th></th>\n",
       "      <th>Pregnancies</th>\n",
       "      <th>Glucose</th>\n",
       "      <th>BloodPressure</th>\n",
       "      <th>SkinThickness</th>\n",
       "      <th>Insulin</th>\n",
       "      <th>BMI</th>\n",
       "      <th>DiabetesPedigreeFunction</th>\n",
       "      <th>Age</th>\n",
       "      <th>Outcome</th>\n",
       "    </tr>\n",
       "  </thead>\n",
       "  <tbody>\n",
       "    <tr>\n",
       "      <th>0</th>\n",
       "      <td>6</td>\n",
       "      <td>148</td>\n",
       "      <td>72</td>\n",
       "      <td>35</td>\n",
       "      <td>0</td>\n",
       "      <td>33.6</td>\n",
       "      <td>0.627</td>\n",
       "      <td>50</td>\n",
       "      <td>1</td>\n",
       "    </tr>\n",
       "    <tr>\n",
       "      <th>1</th>\n",
       "      <td>1</td>\n",
       "      <td>85</td>\n",
       "      <td>66</td>\n",
       "      <td>29</td>\n",
       "      <td>0</td>\n",
       "      <td>26.6</td>\n",
       "      <td>0.351</td>\n",
       "      <td>31</td>\n",
       "      <td>0</td>\n",
       "    </tr>\n",
       "    <tr>\n",
       "      <th>2</th>\n",
       "      <td>8</td>\n",
       "      <td>183</td>\n",
       "      <td>64</td>\n",
       "      <td>0</td>\n",
       "      <td>0</td>\n",
       "      <td>23.3</td>\n",
       "      <td>0.672</td>\n",
       "      <td>32</td>\n",
       "      <td>1</td>\n",
       "    </tr>\n",
       "    <tr>\n",
       "      <th>3</th>\n",
       "      <td>1</td>\n",
       "      <td>89</td>\n",
       "      <td>66</td>\n",
       "      <td>23</td>\n",
       "      <td>94</td>\n",
       "      <td>28.1</td>\n",
       "      <td>0.167</td>\n",
       "      <td>21</td>\n",
       "      <td>0</td>\n",
       "    </tr>\n",
       "    <tr>\n",
       "      <th>4</th>\n",
       "      <td>0</td>\n",
       "      <td>137</td>\n",
       "      <td>40</td>\n",
       "      <td>35</td>\n",
       "      <td>168</td>\n",
       "      <td>43.1</td>\n",
       "      <td>2.288</td>\n",
       "      <td>33</td>\n",
       "      <td>1</td>\n",
       "    </tr>\n",
       "  </tbody>\n",
       "</table>\n",
       "</div>"
      ],
      "text/plain": [
       "   Pregnancies  Glucose  BloodPressure  ...  DiabetesPedigreeFunction  Age  Outcome\n",
       "0            6      148             72  ...                     0.627   50        1\n",
       "1            1       85             66  ...                     0.351   31        0\n",
       "2            8      183             64  ...                     0.672   32        1\n",
       "3            1       89             66  ...                     0.167   21        0\n",
       "4            0      137             40  ...                     2.288   33        1\n",
       "\n",
       "[5 rows x 9 columns]"
      ]
     },
     "execution_count": 16,
     "metadata": {},
     "output_type": "execute_result"
    }
   ],
   "source": [
    "import pandas as pd \n",
    "data=pd.read_csv(\"C:/Users/bharath/OneDrive/Desktop/diabetes.csv\")\n",
    "data.head()"
   ]
  },
  {
   "cell_type": "code",
   "execution_count": 18,
   "id": "191c36e3",
   "metadata": {},
   "outputs": [],
   "source": [
    "x = data.drop(columns=['Pregnancies'])\n",
    "y = data['BMI']"
   ]
  },
  {
   "cell_type": "code",
   "execution_count": 19,
   "id": "01ff845e",
   "metadata": {},
   "outputs": [],
   "source": [
    "x_train, x_test, y_train, y_test = train_test_split(x,y, test_size=0.2,random_state = 42)"
   ]
  },
  {
   "cell_type": "code",
   "execution_count": 20,
   "id": "660963d7",
   "metadata": {},
   "outputs": [
    {
     "name": "stdout",
     "output_type": "stream",
     "text": [
      "WARNING:tensorflow:From C:\\Users\\bharath\\anaconda3\\Lib\\site-packages\\keras\\src\\backend.py:873: The name tf.get_default_graph is deprecated. Please use tf.compat.v1.get_default_graph instead.\n",
      "\n"
     ]
    }
   ],
   "source": [
    "from keras.models import Sequential\n",
    "model = Sequential()\n",
    "model.add(Dense(32, activation='relu', input_shape=(x_train.shape[1],)))\n",
    "model.add(Dense(16, activation='relu'))\n",
    "model.add(Dense(1, activation='sigmoid')) "
   ]
  },
  {
   "cell_type": "code",
   "execution_count": 24,
   "id": "b109743f",
   "metadata": {},
   "outputs": [
    {
     "name": "stdout",
     "output_type": "stream",
     "text": [
      "WARNING:tensorflow:From C:\\Users\\bharath\\anaconda3\\Lib\\site-packages\\keras\\src\\optimizers\\__init__.py:309: The name tf.train.Optimizer is deprecated. Please use tf.compat.v1.train.Optimizer instead.\n",
      "\n",
      "Epoch 1/30\n",
      "WARNING:tensorflow:From C:\\Users\\bharath\\anaconda3\\Lib\\site-packages\\keras\\src\\utils\\tf_utils.py:492: The name tf.ragged.RaggedTensorValue is deprecated. Please use tf.compat.v1.ragged.RaggedTensorValue instead.\n",
      "\n",
      "WARNING:tensorflow:From C:\\Users\\bharath\\anaconda3\\Lib\\site-packages\\keras\\src\\engine\\base_layer_utils.py:384: The name tf.executing_eagerly_outside_functions is deprecated. Please use tf.compat.v1.executing_eagerly_outside_functions instead.\n",
      "\n",
      "16/16 [==============================] - 3s 44ms/step - loss: -215.7634 - accuracy: 0.0061 - val_loss: -422.6540 - val_accuracy: 0.0000e+00\n",
      "Epoch 2/30\n",
      "16/16 [==============================] - 0s 8ms/step - loss: -716.1120 - accuracy: 0.0000e+00 - val_loss: -947.8648 - val_accuracy: 0.0000e+00\n",
      "Epoch 3/30\n",
      "16/16 [==============================] - 0s 8ms/step - loss: -1394.9860 - accuracy: 0.0000e+00 - val_loss: -1808.5132 - val_accuracy: 0.0000e+00\n",
      "Epoch 4/30\n",
      "16/16 [==============================] - 0s 8ms/step - loss: -2505.1504 - accuracy: 0.0000e+00 - val_loss: -3147.2974 - val_accuracy: 0.0000e+00\n",
      "Epoch 5/30\n",
      "16/16 [==============================] - 0s 8ms/step - loss: -4182.1836 - accuracy: 0.0000e+00 - val_loss: -5107.1636 - val_accuracy: 0.0000e+00\n",
      "Epoch 6/30\n",
      "16/16 [==============================] - 0s 9ms/step - loss: -6601.5708 - accuracy: 0.0000e+00 - val_loss: -7950.3779 - val_accuracy: 0.0000e+00\n",
      "Epoch 7/30\n",
      "16/16 [==============================] - 0s 9ms/step - loss: -10028.7861 - accuracy: 0.0000e+00 - val_loss: -11927.6230 - val_accuracy: 0.0000e+00\n",
      "Epoch 8/30\n",
      "16/16 [==============================] - 0s 8ms/step - loss: -14816.5869 - accuracy: 0.0000e+00 - val_loss: -17389.2305 - val_accuracy: 0.0000e+00\n",
      "Epoch 9/30\n",
      "16/16 [==============================] - 0s 8ms/step - loss: -21401.7207 - accuracy: 0.0000e+00 - val_loss: -24804.5352 - val_accuracy: 0.0000e+00\n",
      "Epoch 10/30\n",
      "16/16 [==============================] - 0s 8ms/step - loss: -30120.2793 - accuracy: 0.0000e+00 - val_loss: -34779.4648 - val_accuracy: 0.0000e+00\n",
      "Epoch 11/30\n",
      "16/16 [==============================] - 0s 8ms/step - loss: -41766.7812 - accuracy: 0.0000e+00 - val_loss: -47489.8633 - val_accuracy: 0.0000e+00\n",
      "Epoch 12/30\n",
      "16/16 [==============================] - 0s 8ms/step - loss: -56374.5312 - accuracy: 0.0000e+00 - val_loss: -63736.9844 - val_accuracy: 0.0000e+00\n",
      "Epoch 13/30\n",
      "16/16 [==============================] - 0s 8ms/step - loss: -74935.2422 - accuracy: 0.0000e+00 - val_loss: -83874.4297 - val_accuracy: 0.0000e+00\n",
      "Epoch 14/30\n",
      "16/16 [==============================] - 0s 8ms/step - loss: -97524.1953 - accuracy: 0.0000e+00 - val_loss: -108228.0703 - val_accuracy: 0.0000e+00\n",
      "Epoch 15/30\n",
      "16/16 [==============================] - 0s 8ms/step - loss: -124858.5078 - accuracy: 0.0000e+00 - val_loss: -137172.6250 - val_accuracy: 0.0000e+00\n",
      "Epoch 16/30\n",
      "16/16 [==============================] - 0s 8ms/step - loss: -157360.6875 - accuracy: 0.0000e+00 - val_loss: -171099.5469 - val_accuracy: 0.0000e+00\n",
      "Epoch 17/30\n",
      "16/16 [==============================] - 0s 8ms/step - loss: -195239.3125 - accuracy: 0.0000e+00 - val_loss: -210874.2188 - val_accuracy: 0.0000e+00\n",
      "Epoch 18/30\n",
      "16/16 [==============================] - 0s 8ms/step - loss: -239427.6406 - accuracy: 0.0000e+00 - val_loss: -256890.8438 - val_accuracy: 0.0000e+00\n",
      "Epoch 19/30\n",
      "16/16 [==============================] - 0s 9ms/step - loss: -290172.1250 - accuracy: 0.0000e+00 - val_loss: -309380.7500 - val_accuracy: 0.0000e+00\n",
      "Epoch 20/30\n",
      "16/16 [==============================] - 0s 9ms/step - loss: -347383.2188 - accuracy: 0.0000e+00 - val_loss: -368217.4375 - val_accuracy: 0.0000e+00\n",
      "Epoch 21/30\n",
      "16/16 [==============================] - 0s 9ms/step - loss: -411289.8125 - accuracy: 0.0000e+00 - val_loss: -433878.6562 - val_accuracy: 0.0000e+00\n",
      "Epoch 22/30\n",
      "16/16 [==============================] - 0s 8ms/step - loss: -482612.6250 - accuracy: 0.0000e+00 - val_loss: -506660.8125 - val_accuracy: 0.0000e+00\n",
      "Epoch 23/30\n",
      "16/16 [==============================] - 0s 8ms/step - loss: -561248.1250 - accuracy: 0.0000e+00 - val_loss: -586402.6875 - val_accuracy: 0.0000e+00\n",
      "Epoch 24/30\n",
      "16/16 [==============================] - 0s 8ms/step - loss: -647495.6250 - accuracy: 0.0000e+00 - val_loss: -674711.5625 - val_accuracy: 0.0000e+00\n",
      "Epoch 25/30\n",
      "16/16 [==============================] - 0s 8ms/step - loss: -741930.6875 - accuracy: 0.0000e+00 - val_loss: -770248.6250 - val_accuracy: 0.0000e+00\n",
      "Epoch 26/30\n",
      "16/16 [==============================] - 0s 8ms/step - loss: -846429.8750 - accuracy: 0.0000e+00 - val_loss: -873458.0625 - val_accuracy: 0.0000e+00\n",
      "Epoch 27/30\n",
      "16/16 [==============================] - 0s 8ms/step - loss: -957432.7500 - accuracy: 0.0000e+00 - val_loss: -988042.2500 - val_accuracy: 0.0000e+00\n",
      "Epoch 28/30\n",
      "16/16 [==============================] - 0s 8ms/step - loss: -1077876.5000 - accuracy: 0.0000e+00 - val_loss: -1110415.3750 - val_accuracy: 0.0000e+00\n",
      "Epoch 29/30\n",
      "16/16 [==============================] - 0s 8ms/step - loss: -1209276.2500 - accuracy: 0.0000e+00 - val_loss: -1239404.3750 - val_accuracy: 0.0000e+00\n",
      "Epoch 30/30\n",
      "16/16 [==============================] - 0s 9ms/step - loss: -1347134.6250 - accuracy: 0.0000e+00 - val_loss: -1378914.6250 - val_accuracy: 0.0000e+00\n"
     ]
    },
    {
     "data": {
      "text/plain": [
       "<keras.src.callbacks.History at 0x1f23506bed0>"
      ]
     },
     "execution_count": 24,
     "metadata": {},
     "output_type": "execute_result"
    }
   ],
   "source": [
    "model.compile(optimizer='adam', loss='binary_crossentropy', metrics=['accuracy'])\n",
    "model.fit(x_train, y_train, epochs=30, batch_size=32, validation_split=0.2) "
   ]
  },
  {
   "cell_type": "code",
   "execution_count": 25,
   "id": "a5035234",
   "metadata": {},
   "outputs": [
    {
     "name": "stdout",
     "output_type": "stream",
     "text": [
      "5/5 [==============================] - 0s 4ms/step - loss: -1408781.8750 - accuracy: 0.0000e+00\n",
      "Test accuracy: 0.0\n"
     ]
    }
   ],
   "source": [
    "test_loss, test_acc = model.evaluate(x_test, y_test)\n",
    "print('Test accuracy:', test_acc)"
   ]
  },
  {
   "cell_type": "code",
   "execution_count": null,
   "id": "5d44d256",
   "metadata": {},
   "outputs": [],
   "source": []
  }
 ],
 "metadata": {
  "kernelspec": {
   "display_name": "Python 3 (ipykernel)",
   "language": "python",
   "name": "python3"
  },
  "language_info": {
   "codemirror_mode": {
    "name": "ipython",
    "version": 3
   },
   "file_extension": ".py",
   "mimetype": "text/x-python",
   "name": "python",
   "nbconvert_exporter": "python",
   "pygments_lexer": "ipython3",
   "version": "3.11.4"
  }
 },
 "nbformat": 4,
 "nbformat_minor": 5
}
